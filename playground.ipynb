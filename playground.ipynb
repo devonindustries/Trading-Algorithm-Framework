{
 "cells": [
  {
   "cell_type": "code",
   "execution_count": 1,
   "metadata": {},
   "outputs": [],
   "source": [
    "import pandas as pd\n",
    "import numpy as np\n",
    "import math\n",
    "\n",
    "from trading_algorithm_framework.portfolio import *\n",
    "from trading_algorithm_framework.stock import *"
   ]
  },
  {
   "cell_type": "code",
   "execution_count": 2,
   "metadata": {},
   "outputs": [],
   "source": [
    "aapl_data = pd.read_csv('AAPL_data.csv', parse_dates=True, index_col=0)"
   ]
  },
  {
   "cell_type": "code",
   "execution_count": 3,
   "metadata": {},
   "outputs": [
    {
     "output_type": "execute_result",
     "data": {
      "text/plain": [
       "               open     high      low    close     volume  Name\n",
       "date                                                           \n",
       "2013-02-08  67.7142  68.4014  66.8928  67.8542  158168416  AAPL\n",
       "2013-02-11  68.0714  69.2771  67.6071  68.5614  129029425  AAPL\n",
       "2013-02-12  68.5014  68.9114  66.8205  66.8428  151829363  AAPL\n",
       "2013-02-13  66.7442  67.6628  66.1742  66.7156  118721995  AAPL\n",
       "2013-02-14  66.3599  67.3771  66.2885  66.6556   88809154  AAPL"
      ],
      "text/html": "<div>\n<style scoped>\n    .dataframe tbody tr th:only-of-type {\n        vertical-align: middle;\n    }\n\n    .dataframe tbody tr th {\n        vertical-align: top;\n    }\n\n    .dataframe thead th {\n        text-align: right;\n    }\n</style>\n<table border=\"1\" class=\"dataframe\">\n  <thead>\n    <tr style=\"text-align: right;\">\n      <th></th>\n      <th>open</th>\n      <th>high</th>\n      <th>low</th>\n      <th>close</th>\n      <th>volume</th>\n      <th>Name</th>\n    </tr>\n    <tr>\n      <th>date</th>\n      <th></th>\n      <th></th>\n      <th></th>\n      <th></th>\n      <th></th>\n      <th></th>\n    </tr>\n  </thead>\n  <tbody>\n    <tr>\n      <th>2013-02-08</th>\n      <td>67.7142</td>\n      <td>68.4014</td>\n      <td>66.8928</td>\n      <td>67.8542</td>\n      <td>158168416</td>\n      <td>AAPL</td>\n    </tr>\n    <tr>\n      <th>2013-02-11</th>\n      <td>68.0714</td>\n      <td>69.2771</td>\n      <td>67.6071</td>\n      <td>68.5614</td>\n      <td>129029425</td>\n      <td>AAPL</td>\n    </tr>\n    <tr>\n      <th>2013-02-12</th>\n      <td>68.5014</td>\n      <td>68.9114</td>\n      <td>66.8205</td>\n      <td>66.8428</td>\n      <td>151829363</td>\n      <td>AAPL</td>\n    </tr>\n    <tr>\n      <th>2013-02-13</th>\n      <td>66.7442</td>\n      <td>67.6628</td>\n      <td>66.1742</td>\n      <td>66.7156</td>\n      <td>118721995</td>\n      <td>AAPL</td>\n    </tr>\n    <tr>\n      <th>2013-02-14</th>\n      <td>66.3599</td>\n      <td>67.3771</td>\n      <td>66.2885</td>\n      <td>66.6556</td>\n      <td>88809154</td>\n      <td>AAPL</td>\n    </tr>\n  </tbody>\n</table>\n</div>"
     },
     "metadata": {},
     "execution_count": 3
    }
   ],
   "source": [
    "aapl_stock = Stock('AAPL', aapl_data)\n",
    "aapl_stock.history_df.head()"
   ]
  },
  {
   "cell_type": "code",
   "execution_count": 4,
   "metadata": {},
   "outputs": [],
   "source": [
    "pf = Portfolio()"
   ]
  },
  {
   "cell_type": "code",
   "execution_count": 5,
   "metadata": {},
   "outputs": [],
   "source": [
    "def point_to_share(point, volume):\n",
    "    return Share(\n",
    "        point.close_price,\n",
    "        volume\n",
    "    )\n",
    "\n",
    "purchase_date = aapl_data.index[0]\n",
    "new_share = point_to_share(aapl_stock.history[purchase_date], 1)\n",
    "\n",
    "pf.buy(\n",
    "    aapl_stock.get_symbol(),\n",
    "    'long',\n",
    "    new_share,\n",
    "    purchase_date\n",
    ")"
   ]
  },
  {
   "cell_type": "code",
   "execution_count": 6,
   "metadata": {},
   "outputs": [
    {
     "output_type": "execute_result",
     "data": {
      "text/plain": [
       "-67.8542"
      ]
     },
     "metadata": {},
     "execution_count": 6
    }
   ],
   "source": [
    "pf.positions['AAPL'].returns"
   ]
  },
  {
   "cell_type": "code",
   "execution_count": 7,
   "metadata": {},
   "outputs": [
    {
     "output_type": "execute_result",
     "data": {
      "text/plain": [
       "49932.1458"
      ]
     },
     "metadata": {},
     "execution_count": 7
    }
   ],
   "source": [
    "pf.balance"
   ]
  },
  {
   "cell_type": "code",
   "execution_count": 12,
   "metadata": {},
   "outputs": [
    {
     "output_type": "execute_result",
     "data": {
      "text/plain": [
       "67.8542"
      ]
     },
     "metadata": {},
     "execution_count": 12
    }
   ],
   "source": [
    "pf.exposure"
   ]
  },
  {
   "cell_type": "code",
   "execution_count": null,
   "metadata": {},
   "outputs": [],
   "source": []
  }
 ],
 "metadata": {
  "kernelspec": {
   "display_name": "Python 3",
   "language": "python",
   "name": "python3"
  },
  "language_info": {
   "codemirror_mode": {
    "name": "ipython",
    "version": 3
   },
   "file_extension": ".py",
   "mimetype": "text/x-python",
   "name": "python",
   "nbconvert_exporter": "python",
   "pygments_lexer": "ipython3",
   "version": "3.7.6-final"
  }
 },
 "nbformat": 4,
 "nbformat_minor": 2
}