{
 "metadata": {
  "language_info": {
   "codemirror_mode": {
    "name": "ipython",
    "version": 3
   },
   "file_extension": ".py",
   "mimetype": "text/x-python",
   "name": "python",
   "nbconvert_exporter": "python",
   "pygments_lexer": "ipython3",
   "version": "3.9.2-final"
  },
  "orig_nbformat": 2,
  "kernelspec": {
   "name": "python3",
   "display_name": "Python 3.9.2 64-bit",
   "metadata": {
    "interpreter": {
     "hash": "18dd6ca62354b0c5fa5fb3b26dcef98f36ad7b4728a011d95aca0f5dae52e0e2"
    }
   }
  }
 },
 "nbformat": 4,
 "nbformat_minor": 2,
 "cells": [
  {
   "cell_type": "code",
   "execution_count": 1,
   "metadata": {},
   "outputs": [],
   "source": [
    "from trading_algorithm_framework import portfolio as pf\n",
    "from trading_algorithm_framework import stock\n",
    "\n",
    "import pandas as pd\n",
    "from datetime import datetime"
   ]
  },
  {
   "cell_type": "code",
   "execution_count": 2,
   "metadata": {},
   "outputs": [
    {
     "output_type": "execute_result",
     "data": {
      "text/plain": [
       "               open     high      low    close     volume  Name\n",
       "date                                                           \n",
       "2013-02-08  67.7142  68.4014  66.8928  67.8542  158168416  AAPL\n",
       "2013-02-11  68.0714  69.2771  67.6071  68.5614  129029425  AAPL\n",
       "2013-02-12  68.5014  68.9114  66.8205  66.8428  151829363  AAPL\n",
       "2013-02-13  66.7442  67.6628  66.1742  66.7156  118721995  AAPL\n",
       "2013-02-14  66.3599  67.3771  66.2885  66.6556   88809154  AAPL"
      ],
      "text/html": "<div>\n<style scoped>\n    .dataframe tbody tr th:only-of-type {\n        vertical-align: middle;\n    }\n\n    .dataframe tbody tr th {\n        vertical-align: top;\n    }\n\n    .dataframe thead th {\n        text-align: right;\n    }\n</style>\n<table border=\"1\" class=\"dataframe\">\n  <thead>\n    <tr style=\"text-align: right;\">\n      <th></th>\n      <th>open</th>\n      <th>high</th>\n      <th>low</th>\n      <th>close</th>\n      <th>volume</th>\n      <th>Name</th>\n    </tr>\n    <tr>\n      <th>date</th>\n      <th></th>\n      <th></th>\n      <th></th>\n      <th></th>\n      <th></th>\n      <th></th>\n    </tr>\n  </thead>\n  <tbody>\n    <tr>\n      <th>2013-02-08</th>\n      <td>67.7142</td>\n      <td>68.4014</td>\n      <td>66.8928</td>\n      <td>67.8542</td>\n      <td>158168416</td>\n      <td>AAPL</td>\n    </tr>\n    <tr>\n      <th>2013-02-11</th>\n      <td>68.0714</td>\n      <td>69.2771</td>\n      <td>67.6071</td>\n      <td>68.5614</td>\n      <td>129029425</td>\n      <td>AAPL</td>\n    </tr>\n    <tr>\n      <th>2013-02-12</th>\n      <td>68.5014</td>\n      <td>68.9114</td>\n      <td>66.8205</td>\n      <td>66.8428</td>\n      <td>151829363</td>\n      <td>AAPL</td>\n    </tr>\n    <tr>\n      <th>2013-02-13</th>\n      <td>66.7442</td>\n      <td>67.6628</td>\n      <td>66.1742</td>\n      <td>66.7156</td>\n      <td>118721995</td>\n      <td>AAPL</td>\n    </tr>\n    <tr>\n      <th>2013-02-14</th>\n      <td>66.3599</td>\n      <td>67.3771</td>\n      <td>66.2885</td>\n      <td>66.6556</td>\n      <td>88809154</td>\n      <td>AAPL</td>\n    </tr>\n  </tbody>\n</table>\n</div>"
     },
     "metadata": {},
     "execution_count": 2
    }
   ],
   "source": [
    "aapl_data = pd.read_csv('C:/Users/jdbak/OneDrive/Documents/Stocks/individual_stocks_5yr/individual_stocks_5yr/AAPL_data.csv', index_col=0)\n",
    "aapl_data.head()"
   ]
  },
  {
   "cell_type": "code",
   "execution_count": 3,
   "metadata": {},
   "outputs": [],
   "source": [
    "aapl_stock = stock.Stock('AAPL', aapl_data)"
   ]
  },
  {
   "cell_type": "code",
   "execution_count": 4,
   "metadata": {},
   "outputs": [
    {
     "output_type": "execute_result",
     "data": {
      "text/plain": [
       "68.4014"
      ]
     },
     "metadata": {},
     "execution_count": 4
    }
   ],
   "source": [
    "aapl_stock.history[datetime(2013, 2, 8)].high_price"
   ]
  },
  {
   "cell_type": "code",
   "execution_count": 5,
   "metadata": {},
   "outputs": [
    {
     "output_type": "execute_result",
     "data": {
      "text/plain": [
       "               open     high      low    close     volume  Name\n",
       "date                                                           \n",
       "2013-02-08  67.7142  68.4014  66.8928  67.8542  158168416  AAPL\n",
       "2013-02-11  68.0714  69.2771  67.6071  68.5614  129029425  AAPL\n",
       "2013-02-12  68.5014  68.9114  66.8205  66.8428  151829363  AAPL\n",
       "2013-02-13  66.7442  67.6628  66.1742  66.7156  118721995  AAPL\n",
       "2013-02-14  66.3599  67.3771  66.2885  66.6556   88809154  AAPL"
      ],
      "text/html": "<div>\n<style scoped>\n    .dataframe tbody tr th:only-of-type {\n        vertical-align: middle;\n    }\n\n    .dataframe tbody tr th {\n        vertical-align: top;\n    }\n\n    .dataframe thead th {\n        text-align: right;\n    }\n</style>\n<table border=\"1\" class=\"dataframe\">\n  <thead>\n    <tr style=\"text-align: right;\">\n      <th></th>\n      <th>open</th>\n      <th>high</th>\n      <th>low</th>\n      <th>close</th>\n      <th>volume</th>\n      <th>Name</th>\n    </tr>\n    <tr>\n      <th>date</th>\n      <th></th>\n      <th></th>\n      <th></th>\n      <th></th>\n      <th></th>\n      <th></th>\n    </tr>\n  </thead>\n  <tbody>\n    <tr>\n      <th>2013-02-08</th>\n      <td>67.7142</td>\n      <td>68.4014</td>\n      <td>66.8928</td>\n      <td>67.8542</td>\n      <td>158168416</td>\n      <td>AAPL</td>\n    </tr>\n    <tr>\n      <th>2013-02-11</th>\n      <td>68.0714</td>\n      <td>69.2771</td>\n      <td>67.6071</td>\n      <td>68.5614</td>\n      <td>129029425</td>\n      <td>AAPL</td>\n    </tr>\n    <tr>\n      <th>2013-02-12</th>\n      <td>68.5014</td>\n      <td>68.9114</td>\n      <td>66.8205</td>\n      <td>66.8428</td>\n      <td>151829363</td>\n      <td>AAPL</td>\n    </tr>\n    <tr>\n      <th>2013-02-13</th>\n      <td>66.7442</td>\n      <td>67.6628</td>\n      <td>66.1742</td>\n      <td>66.7156</td>\n      <td>118721995</td>\n      <td>AAPL</td>\n    </tr>\n    <tr>\n      <th>2013-02-14</th>\n      <td>66.3599</td>\n      <td>67.3771</td>\n      <td>66.2885</td>\n      <td>66.6556</td>\n      <td>88809154</td>\n      <td>AAPL</td>\n    </tr>\n  </tbody>\n</table>\n</div>"
     },
     "metadata": {},
     "execution_count": 5
    }
   ],
   "source": [
    "aapl_stock.history_df.head()"
   ]
  },
  {
   "cell_type": "code",
   "execution_count": null,
   "metadata": {},
   "outputs": [],
   "source": []
  }
 ]
}